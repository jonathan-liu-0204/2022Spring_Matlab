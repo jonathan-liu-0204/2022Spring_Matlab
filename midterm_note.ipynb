{
 "cells": [
  {
   "cell_type": "markdown",
   "metadata": {},
   "source": [
    "# HW1"
   ]
  },
  {
   "cell_type": "markdown",
   "metadata": {},
   "source": [
    "## Problem 1.1\n",
    "\n",
    "Create a row vector P whose elements are from –2n to 2n, with an increment of 2.\n",
    "\n",
    "For example\n",
    "\n",
    "n = 4; % Our TAs will change n to another value to check your answer\n",
    "P = -8 -6 -4 -2 0 2 4 6 8\n",
    "\n",
    "Use at most two instructions, including the line that specifies n.\n",
    "\n",
    "You can change n to get a new row vector P"
   ]
  },
  {
   "cell_type": "code",
   "execution_count": null,
   "metadata": {
    "vscode": {
     "languageId": "plaintext"
    }
   },
   "outputs": [],
   "source": [
    "disp(\"Problem 1.1\") \t% show “Problem 1.1.“\n",
    "\n",
    "n = 4;\n",
    "P = [(-2*n):2:(2*n)]"
   ]
  },
  {
   "cell_type": "markdown",
   "metadata": {},
   "source": [
    "## Problem 1.2\n",
    "\n",
    "You must use meshgrid to create the following \n",
    "matrix.\n",
    "Q = 1 2^2 3^2 … n^n\n",
    "    1 2^2 3^2 … n^n\n",
    "    …\n",
    "    1 2^2 3^2 … n^n\n",
    "\n",
    "Q has n identical rows\n",
    "\n",
    "Use at most 2 instructions, including the line that specifies n.\n",
    "n = number, e.g., n = 10 (this is one instruction)\n",
    "\n",
    "Example:\n",
    "When n = 10,\n",
    "your program outputs\n",
    "Q =\n",
    "1 4 9 16 25 36 49 64 81 100\n",
    "1 4 9 16 25 36 49 64 81 100\n",
    "1 4 9 16 25 36 49 64 81 100\n",
    "1 4 9 16 25 36 49 64 81 100\n",
    "1 4 9 16 25 36 49 64 81 100\n",
    "1 4 9 16 25 36 49 64 81 100\n",
    "1 4 9 16 25 36 49 64 81 100\n",
    "1 4 9 16 25 36 49 64 81 100\n",
    "1 4 9 16 25 36 49 64 81 100\n",
    "1 4 9 16 25 36 49 64 81 100"
   ]
  },
  {
   "cell_type": "code",
   "execution_count": null,
   "metadata": {
    "vscode": {
     "languageId": "plaintext"
    }
   },
   "outputs": [],
   "source": [
    "disp(\"Problem 1.2\") \t% show “Problem 1.2.“\n",
    "\n",
    "n = 10;\n",
    "Q = meshgrid((1:n).^ 2)"
   ]
  },
  {
   "cell_type": "markdown",
   "metadata": {},
   "source": [
    "## Problem 1.3\n",
    "\n",
    "Given n, create the following row vector consisting of n elements:\n",
    "R = [1 -2 3 -4 5 -6 7 -8 9 -10 11 … ] \n",
    "\n",
    "Use at most 4 instructions , including the line that specifies n.\n",
    "You can change n to get a new row vector.\n",
    "\n",
    "Example:\n",
    "When n = 10,\n",
    "your program outputs\n",
    "R = [1 -2 3 -4 5 -6 7 -8 9 -10]"
   ]
  },
  {
   "cell_type": "code",
   "execution_count": null,
   "metadata": {
    "vscode": {
     "languageId": "plaintext"
    }
   },
   "outputs": [],
   "source": [
    "disp(\"Problem 1.3\") \t% show “Problem 1.3.“\n",
    "\n",
    "n = 10;\n",
    "r = [1:n];\n",
    "R = r .* (-1) .^ (r+1)"
   ]
  },
  {
   "cell_type": "markdown",
   "metadata": {},
   "source": [
    "## Problem 1.4\n",
    "\n",
    "Given n, create the following matrix consisting of n elements:\n",
    "S = [1 3 3 5 5 7 7 9 9 11 … ]\n",
    "\n",
    "Use at most 4 instructions, including the line that specifies n.\n",
    "You can change n to get a new row vector.\n",
    "You must not use mod.\n",
    "\n",
    "Example:\n",
    "When n = 6,\n",
    "your program outputs\n",
    "S = [1 3 3 5 5 7]\n",
    "\n",
    "When n = 7,\n",
    "your program outputs\n",
    "S = [1 3 3 5 5 7 7]\n",
    "\n",
    "When n = 14,\n",
    "your program outputs\n",
    "S = [1 3 3 5 5 7 7 9 9 11 11 13 13 15]"
   ]
  },
  {
   "cell_type": "code",
   "execution_count": null,
   "metadata": {
    "vscode": {
     "languageId": "plaintext"
    }
   },
   "outputs": [],
   "source": [
    "disp(\"Problem 1.4\") \t% show “Problem 1.4.“\n",
    "\n",
    "n = 14;\n",
    "a = 2 .* fix([3:n+2] ./ 2);\n",
    "A = a - ones(1,n)"
   ]
  },
  {
   "cell_type": "markdown",
   "metadata": {},
   "source": [
    "## Problem 1.5\n",
    "You must use mod to create the following row vector which contains n elements:\n",
    "T = [4+1 3+2 2+3 1+4 4+5 3+6 2+7 ……]\n",
    "\n",
    "Use at most 2 instructions , including the line that specifies n.\n",
    "You can change n to get a new row vector.\n",
    "You need to learn how to use the mod operator on your own.\n",
    "\n",
    "Example:\n",
    "When n = 6,\n",
    "your program outputs\n",
    "T = [5 5 5 5 9 9]\n",
    "\n",
    "When n = 7,\n",
    "your program outputs\n",
    "T = [5 5 5 5 9 9 9]\n",
    "\n",
    "When n = 8,\n",
    "your program outputs\n",
    "T = [5 5 5 5 9 9 9 9]\n",
    "\n",
    "When n = 17,\n",
    "your program outputs\n",
    "T = [5 5 5 5 9 9 9 9 13 13 13 13 17 17 17 17 21 ]"
   ]
  },
  {
   "cell_type": "code",
   "execution_count": null,
   "metadata": {
    "vscode": {
     "languageId": "plaintext"
    }
   },
   "outputs": [],
   "source": [
    "disp(\"Problem 1.5\") \t% show “Problem 1.5.“\n",
    "\n",
    "n = 6;\n",
    "a = [1:n];\n",
    "T = a + mod(-a, 4) + 1"
   ]
  },
  {
   "cell_type": "markdown",
   "metadata": {},
   "source": [
    "## Problem 2.1\n",
    "\n",
    "Use surf to plot a graph\n",
    "\n",
    "z = y sin(x) cos(x) / (|x| + eps)\n",
    "\n",
    "x in [-r, r]\n",
    "\n",
    "y in [-r, r]\n",
    "\n",
    "z in [-r, r]\n",
    "\n",
    "Use: shading faceted\n",
    "You can use a smaller step size to get a smoother surface.\n",
    "\n",
    "Type: help shading \n",
    "Try different shading methods: flat, interp, faceted\n"
   ]
  },
  {
   "cell_type": "code",
   "execution_count": null,
   "metadata": {
    "vscode": {
     "languageId": "plaintext"
    }
   },
   "outputs": [],
   "source": [
    "disp(\"Problem 2.1\") \t% show “Problem 2.1.“\n",
    "\n",
    "r = 5;\n",
    "x = [-r:0.1:r];\n",
    "y = [-r:0.1:r];\n",
    "[X Y] = meshgrid(x, y);\n",
    "Z = Y .* sin(X) .* cos(X) ./ (abs(X) + eps);\n",
    "S = surf(X, Y, Z)"
   ]
  },
  {
   "cell_type": "markdown",
   "metadata": {},
   "source": [
    "## Problem 2.2\n",
    "\n",
    "Plot the following functions in the same figure. \n",
    "\n",
    "y = x;\n",
    "\n",
    "y = x^2;\n",
    "\n",
    "y = x^3;\n",
    "\n",
    "y = e^x\n",
    "\n",
    "y = e^-x\n",
    "\n",
    "y = log x\n",
    "\n",
    "x in [0, 4]. Step size 0.01.\n",
    "\n",
    "You can use clf to clear all figures.\n",
    "\n",
    "Do you know how to label the curves?\n",
    "\n",
    "e is the natural log base.\n"
   ]
  },
  {
   "cell_type": "code",
   "execution_count": null,
   "metadata": {
    "vscode": {
     "languageId": "plaintext"
    }
   },
   "outputs": [],
   "source": [
    "disp(\"Problem 2.2\") \t% show “Problem 2.2.“\n",
    "\n",
    "clf\n",
    "\n",
    "x = [0:0.01:4];\n",
    "y1 = x;\n",
    "y2 = x .^ 2;\n",
    "y3 = x .^ 3;\n",
    "y4 = exp(x);\n",
    "y5 = exp(-x);\n",
    "y6 = log(x);\n",
    "\n",
    "plot(x, y1, x, y2, x, y3, x, y4, x, y5, x, y6)"
   ]
  },
  {
   "cell_type": "markdown",
   "metadata": {},
   "source": [
    "## Problem 2.3\n",
    "\n",
    "Plot the composite function z(x, y(x)) with solid line segments and ‘o’.\n",
    "\n",
    "y = sin(x) – x;\n",
    "\n",
    "z = sin(y^2) – e^x/x;\n",
    "\n",
    "x is inside [-10, 10].\n",
    "\n",
    "e is the natural log base.\n",
    "\n",
    "x’s step size is 0.5 when plot in ‘o’ style. Could we use step size 0.001?\n",
    "\n",
    "x’s step size is 0.001 when plot in line segments\n"
   ]
  },
  {
   "cell_type": "code",
   "execution_count": null,
   "metadata": {
    "vscode": {
     "languageId": "plaintext"
    }
   },
   "outputs": [],
   "source": [
    "disp(\"Problem 2.3\") \t% show “Problem 2.3.“\n",
    "\n",
    "clf\n",
    "\n",
    "x1  = [-10: 0.001: 10];\n",
    "y1 = sin(x1) - x1;\n",
    "z1 = sin((y1 .^ 2)) -  exp(x1) ./ x1;\n",
    "\n",
    "x2  = [-10: 0.5: 10];\n",
    "y2 = sin(x2) - x2;\n",
    "z2 = sin((y2 .^ 2)) -  exp(x2) ./ x2;\n",
    "\n",
    "plot(x1, z1, x2, z2, 'o')"
   ]
  },
  {
   "cell_type": "markdown",
   "metadata": {},
   "source": [
    "## Problem 2.4\n",
    "\n",
    "Plot the following surface. \n",
    "\n",
    "z = (x + y) / (x^2 + y^2 + 1)\n",
    "\n",
    "x is inside [-10, 10].\n",
    "\n",
    "y is inside [-10, 10].\n",
    "\n",
    "Step size is 0.5.\n",
    "\n",
    "Use meshc, and shading faceted.\n",
    "\n",
    "Try to use a step size: 0.01. Check the result again.\n",
    "\n",
    "Use clf to clear the figure."
   ]
  },
  {
   "cell_type": "code",
   "execution_count": null,
   "metadata": {
    "vscode": {
     "languageId": "plaintext"
    }
   },
   "outputs": [],
   "source": [
    "disp(\"Problem 2.4\") \t% show “Problem 2.4.“\n",
    "\n",
    "clf\n",
    "\n",
    "x = [-10 : 0.5 : 10];\n",
    "y = [-10 : 0.5 : 10];\n",
    "[X, Y] = meshgrid(x, y);\n",
    "z = (X + Y) ./ (X .^ 2 +  Y .^ 2 + 1);\n",
    "meshc(X, Y, z)"
   ]
  },
  {
   "cell_type": "markdown",
   "metadata": {},
   "source": [
    "## Problem 2.5\n",
    "\n",
    "Plot the following functions. \n",
    "\n",
    "y = 0.5 + (x sin x) / ( x^2 * e^sin x + 1);\n",
    "\n",
    "y = cos^2 x + sin^2 x\n",
    "\n",
    "x is inside [-10, 10].\n",
    "\n",
    "The step size for x is 0.05;\n",
    "\n",
    "You can use size(x, 2) to get the number of columns of x.\n"
   ]
  },
  {
   "cell_type": "code",
   "execution_count": null,
   "metadata": {
    "vscode": {
     "languageId": "plaintext"
    }
   },
   "outputs": [],
   "source": [
    "disp(\"Problem 2.5\") \t% show “Problem 2.5.“\n",
    "\n",
    "clf\n",
    "\n",
    "x = [-10: 0.05: 10];\n",
    "y1 = 0.5 + (x .* sin(x)) ./ ( x .^ 2 .* exp(sin(x)) + 1);\n",
    "y2 = cos(x) .^ 2 + sin(x) .^ 2;\n",
    "plot(x, y1, x, y2)"
   ]
  },
  {
   "cell_type": "markdown",
   "metadata": {},
   "source": []
  }
 ],
 "metadata": {
  "language_info": {
   "name": "python"
  },
  "orig_nbformat": 4
 },
 "nbformat": 4,
 "nbformat_minor": 2
}
