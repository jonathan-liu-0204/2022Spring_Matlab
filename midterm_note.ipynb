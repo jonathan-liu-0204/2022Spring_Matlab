{
 "cells": [
  {
   "cell_type": "markdown",
   "metadata": {},
   "source": [
    "# HW1"
   ]
  },
  {
   "cell_type": "markdown",
   "metadata": {},
   "source": [
    "## Problem 1.1\n",
    "\n",
    "Create a row vector P whose elements are from –2n to 2n, with an increment of 2.\n",
    "\n",
    "For example\n",
    "\n",
    "n = 4; % Our TAs will change n to another value to check your answer\n",
    "P = -8 -6 -4 -2 0 2 4 6 8\n",
    "\n",
    "Use at most two instructions, including the line that specifies n.\n",
    "\n",
    "You can change n to get a new row vector P"
   ]
  },
  {
   "cell_type": "code",
   "execution_count": null,
   "metadata": {
    "vscode": {
     "languageId": "plaintext"
    }
   },
   "outputs": [],
   "source": [
    "disp(\"Problem 1.1\") \t% show “Problem 1.1.“\n",
    "\n",
    "n = 4;\n",
    "P = [(-2*n):2:(2*n)]"
   ]
  },
  {
   "cell_type": "markdown",
   "metadata": {},
   "source": [
    "## Problem 1.2\n",
    "\n",
    "You must use meshgrid to create the following \n",
    "matrix.\n",
    "Q = 1 2^2 3^2 … n^n\n",
    "    1 2^2 3^2 … n^n\n",
    "    …\n",
    "    1 2^2 3^2 … n^n\n",
    "\n",
    "Q has n identical rows\n",
    "\n",
    "Use at most 2 instructions, including the line that specifies n.\n",
    "n = number, e.g., n = 10 (this is one instruction)\n",
    "\n",
    "Example:\n",
    "When n = 10,\n",
    "your program outputs\n",
    "Q =\n",
    "1 4 9 16 25 36 49 64 81 100\n",
    "1 4 9 16 25 36 49 64 81 100\n",
    "1 4 9 16 25 36 49 64 81 100\n",
    "1 4 9 16 25 36 49 64 81 100\n",
    "1 4 9 16 25 36 49 64 81 100\n",
    "1 4 9 16 25 36 49 64 81 100\n",
    "1 4 9 16 25 36 49 64 81 100\n",
    "1 4 9 16 25 36 49 64 81 100\n",
    "1 4 9 16 25 36 49 64 81 100\n",
    "1 4 9 16 25 36 49 64 81 100"
   ]
  },
  {
   "cell_type": "code",
   "execution_count": null,
   "metadata": {
    "vscode": {
     "languageId": "plaintext"
    }
   },
   "outputs": [],
   "source": [
    "disp(\"Problem 1.2\") \t% show “Problem 1.2.“\n",
    "\n",
    "n = 10;\n",
    "Q = meshgrid((1:n).^ 2)"
   ]
  },
  {
   "cell_type": "markdown",
   "metadata": {},
   "source": [
    "## Problem 1.3\n",
    "\n",
    "Given n, create the following row vector consisting of n elements:\n",
    "R = [1 -2 3 -4 5 -6 7 -8 9 -10 11 … ] \n",
    "\n",
    "Use at most 4 instructions , including the line that specifies n.\n",
    "You can change n to get a new row vector.\n",
    "\n",
    "Example:\n",
    "When n = 10,\n",
    "your program outputs\n",
    "R = [1 -2 3 -4 5 -6 7 -8 9 -10]"
   ]
  },
  {
   "cell_type": "code",
   "execution_count": null,
   "metadata": {
    "vscode": {
     "languageId": "plaintext"
    }
   },
   "outputs": [],
   "source": [
    "disp(\"Problem 1.3\") \t% show “Problem 1.3.“\n",
    "\n",
    "n = 10;\n",
    "r = [1:n];\n",
    "R = r .* (-1) .^ (r+1)"
   ]
  },
  {
   "cell_type": "markdown",
   "metadata": {},
   "source": [
    "## Problem 1.4\n",
    "\n",
    "Given n, create the following matrix consisting of n elements:\n",
    "S = [1 3 3 5 5 7 7 9 9 11 … ]\n",
    "\n",
    "Use at most 4 instructions, including the line that specifies n.\n",
    "You can change n to get a new row vector.\n",
    "You must not use mod.\n",
    "\n",
    "Example:\n",
    "When n = 6,\n",
    "your program outputs\n",
    "S = [1 3 3 5 5 7]\n",
    "\n",
    "When n = 7,\n",
    "your program outputs\n",
    "S = [1 3 3 5 5 7 7]\n",
    "\n",
    "When n = 14,\n",
    "your program outputs\n",
    "S = [1 3 3 5 5 7 7 9 9 11 11 13 13 15]"
   ]
  },
  {
   "cell_type": "code",
   "execution_count": null,
   "metadata": {
    "vscode": {
     "languageId": "plaintext"
    }
   },
   "outputs": [],
   "source": [
    "disp(\"Problem 1.4\") \t% show “Problem 1.4.“\n",
    "\n",
    "n = 14;\n",
    "a = 2 .* fix([3:n+2] ./ 2);\n",
    "A = a - ones(1,n)"
   ]
  },
  {
   "cell_type": "markdown",
   "metadata": {},
   "source": [
    "## Problem 1.5\n",
    "You must use mod to create the following row vector which contains n elements:\n",
    "T = [4+1 3+2 2+3 1+4 4+5 3+6 2+7 ……]\n",
    "\n",
    "Use at most 2 instructions , including the line that specifies n.\n",
    "You can change n to get a new row vector.\n",
    "You need to learn how to use the mod operator on your own.\n",
    "\n",
    "Example:\n",
    "When n = 6,\n",
    "your program outputs\n",
    "T = [5 5 5 5 9 9]\n",
    "\n",
    "When n = 7,\n",
    "your program outputs\n",
    "T = [5 5 5 5 9 9 9]\n",
    "\n",
    "When n = 8,\n",
    "your program outputs\n",
    "T = [5 5 5 5 9 9 9 9]\n",
    "\n",
    "When n = 17,\n",
    "your program outputs\n",
    "T = [5 5 5 5 9 9 9 9 13 13 13 13 17 17 17 17 21 ]"
   ]
  },
  {
   "cell_type": "code",
   "execution_count": null,
   "metadata": {
    "vscode": {
     "languageId": "plaintext"
    }
   },
   "outputs": [],
   "source": [
    "disp(\"Problem 1.5\") \t% show “Problem 1.5.“\n",
    "\n",
    "n = 6;\n",
    "a = [1:n];\n",
    "T = a + mod(-a, 4) + 1"
   ]
  },
  {
   "cell_type": "markdown",
   "metadata": {},
   "source": [
    "## Problem 2.1\n",
    "\n",
    "Use surf to plot a graph\n",
    "\n",
    "z = y sin(x) cos(x) / (|x| + eps)\n",
    "\n",
    "x in [-r, r]\n",
    "\n",
    "y in [-r, r]\n",
    "\n",
    "z in [-r, r]\n",
    "\n",
    "Use: shading faceted\n",
    "You can use a smaller step size to get a smoother surface.\n",
    "\n",
    "Type: help shading \n",
    "Try different shading methods: flat, interp, faceted\n"
   ]
  },
  {
   "cell_type": "code",
   "execution_count": null,
   "metadata": {
    "vscode": {
     "languageId": "plaintext"
    }
   },
   "outputs": [],
   "source": [
    "disp(\"Problem 2.1\") \t% show “Problem 2.1.“\n",
    "\n",
    "r = 5;\n",
    "x = [-r:0.1:r];\n",
    "y = [-r:0.1:r];\n",
    "[X Y] = meshgrid(x, y);\n",
    "Z = Y .* sin(X) .* cos(X) ./ (abs(X) + eps);\n",
    "S = surf(X, Y, Z)"
   ]
  },
  {
   "cell_type": "markdown",
   "metadata": {},
   "source": [
    "## Problem 2.2\n",
    "\n",
    "Plot the following functions in the same figure. \n",
    "\n",
    "y = x;\n",
    "\n",
    "y = x^2;\n",
    "\n",
    "y = x^3;\n",
    "\n",
    "y = e^x\n",
    "\n",
    "y = e^-x\n",
    "\n",
    "y = log x\n",
    "\n",
    "x in [0, 4]. Step size 0.01.\n",
    "\n",
    "You can use clf to clear all figures.\n",
    "\n",
    "Do you know how to label the curves?\n",
    "\n",
    "e is the natural log base.\n"
   ]
  },
  {
   "cell_type": "code",
   "execution_count": null,
   "metadata": {
    "vscode": {
     "languageId": "plaintext"
    }
   },
   "outputs": [],
   "source": [
    "disp(\"Problem 2.2\") \t% show “Problem 2.2.“\n",
    "\n",
    "clf\n",
    "\n",
    "x = [0:0.01:4];\n",
    "y1 = x;\n",
    "y2 = x .^ 2;\n",
    "y3 = x .^ 3;\n",
    "y4 = exp(x);\n",
    "y5 = exp(-x);\n",
    "y6 = log(x);\n",
    "\n",
    "plot(x, y1, x, y2, x, y3, x, y4, x, y5, x, y6)"
   ]
  },
  {
   "cell_type": "markdown",
   "metadata": {},
   "source": [
    "## Problem 2.3\n",
    "\n",
    "Plot the composite function z(x, y(x)) with solid line segments and ‘o’.\n",
    "\n",
    "y = sin(x) – x;\n",
    "\n",
    "z = sin(y^2) – e^x/x;\n",
    "\n",
    "x is inside [-10, 10].\n",
    "\n",
    "e is the natural log base.\n",
    "\n",
    "x’s step size is 0.5 when plot in ‘o’ style. Could we use step size 0.001?\n",
    "\n",
    "x’s step size is 0.001 when plot in line segments\n"
   ]
  },
  {
   "cell_type": "code",
   "execution_count": null,
   "metadata": {
    "vscode": {
     "languageId": "plaintext"
    }
   },
   "outputs": [],
   "source": [
    "disp(\"Problem 2.3\") \t% show “Problem 2.3.“\n",
    "\n",
    "clf\n",
    "\n",
    "x1  = [-10: 0.001: 10];\n",
    "y1 = sin(x1) - x1;\n",
    "z1 = sin((y1 .^ 2)) -  exp(x1) ./ x1;\n",
    "\n",
    "x2  = [-10: 0.5: 10];\n",
    "y2 = sin(x2) - x2;\n",
    "z2 = sin((y2 .^ 2)) -  exp(x2) ./ x2;\n",
    "\n",
    "plot(x1, z1, x2, z2, 'o')"
   ]
  },
  {
   "cell_type": "markdown",
   "metadata": {},
   "source": [
    "## Problem 2.4\n",
    "\n",
    "Plot the following surface. \n",
    "\n",
    "z = (x + y) / (x^2 + y^2 + 1)\n",
    "\n",
    "x is inside [-10, 10].\n",
    "\n",
    "y is inside [-10, 10].\n",
    "\n",
    "Step size is 0.5.\n",
    "\n",
    "Use meshc, and shading faceted.\n",
    "\n",
    "Try to use a step size: 0.01. Check the result again.\n",
    "\n",
    "Use clf to clear the figure."
   ]
  },
  {
   "cell_type": "code",
   "execution_count": null,
   "metadata": {
    "vscode": {
     "languageId": "plaintext"
    }
   },
   "outputs": [],
   "source": [
    "disp(\"Problem 2.4\") \t% show “Problem 2.4.“\n",
    "\n",
    "clf\n",
    "\n",
    "x = [-10 : 0.5 : 10];\n",
    "y = [-10 : 0.5 : 10];\n",
    "[X, Y] = meshgrid(x, y);\n",
    "z = (X + Y) ./ (X .^ 2 +  Y .^ 2 + 1);\n",
    "meshc(X, Y, z)"
   ]
  },
  {
   "cell_type": "markdown",
   "metadata": {},
   "source": [
    "## Problem 2.5\n",
    "\n",
    "Plot the following functions. \n",
    "\n",
    "y = 0.5 + (x sin x) / ( x^2 * e^sin x + 1);\n",
    "\n",
    "y = cos^2 x + sin^2 x\n",
    "\n",
    "x is inside [-10, 10].\n",
    "\n",
    "The step size for x is 0.05;\n",
    "\n",
    "You can use size(x, 2) to get the number of columns of x.\n"
   ]
  },
  {
   "cell_type": "code",
   "execution_count": null,
   "metadata": {
    "vscode": {
     "languageId": "plaintext"
    }
   },
   "outputs": [],
   "source": [
    "disp(\"Problem 2.5\") \t% show “Problem 2.5.“\n",
    "\n",
    "clf\n",
    "\n",
    "x = [-10: 0.05: 10];\n",
    "y1 = 0.5 + (x .* sin(x)) ./ ( x .^ 2 .* exp(sin(x)) + 1);\n",
    "y2 = cos(x) .^ 2 + sin(x) .^ 2;\n",
    "plot(x, y1, x, y2)"
   ]
  },
  {
   "cell_type": "markdown",
   "metadata": {},
   "source": []
  },
  {
   "cell_type": "markdown",
   "metadata": {},
   "source": [
    "# HW2"
   ]
  },
  {
   "cell_type": "markdown",
   "metadata": {},
   "source": [
    "## Problem 1\n",
    "\n",
    "Write a problem to ask for inputs. Then it plots a function y = f(x).\n",
    " \n",
    "The function y = a sin(x) + b tan(x/10). The process is stated as follows.\n",
    "\n",
    "1. Clear the screen. Show your student ID and name.\n",
    "2. Ask to input A and B in a vector form, i.e., input [1, 2] and then A = 1, B =2.\n",
    "3. If both A and B are zero, show a message “Thanks for playing” and then quit the program. Otherwise go to step 4.\n",
    "4. Clear all curves in the current figure.\n",
    "5. Plot y versus x for all pairs of a and b, such that a is in [A-10:2:A+10] and b is in [B-10:2:B+10]. x is inside [-10:0.05:10]. The line width of all the curves is set to the default value. Call “hold on” so that all the curves are plotted in the same figure.\n",
    "6. Go to step 2.\n"
   ]
  },
  {
   "cell_type": "code",
   "execution_count": null,
   "metadata": {
    "vscode": {
     "languageId": "plaintext"
    }
   },
   "outputs": [],
   "source": [
    "%%%%%%%%%%%%%%%%%%%%%%%%%%%\n",
    "% Assignment Number: 2\n",
    "% Problem number: 1\n",
    "% Student Name:  劉子齊 Jonathan\n",
    "% Student ID: 0716304\n",
    "% Email address: jonathan.tzuchi.liu@gmail.com\n",
    "% Department: Computer Science, NYCU\n",
    "% Date: 2021/03/15\n",
    "%%%%%%%%%%%%%%%%%%%%%%%%%%%%\n",
    "\n",
    "clf; clear; clc;\t\t% clear the current figure\n",
    "                        % clear variables, and clear screen\n",
    "                        \n",
    "fprintf('Student ID:0716304 Name:劉子齊 Jonathan\\n'); % show student id and name\n",
    "\n",
    "disp('Problem 2.1') \t% show Problem 2.1\n",
    "\n",
    "x = [-10 : 0.05 : 10];\n",
    "\n",
    "while 1\n",
    "    keyin = input('Please input the coefficients [A, B]:');\n",
    "    A = keyin(1);\n",
    "    B = keyin(2);\n",
    "    \n",
    "    if A == 0 \n",
    "\t   fprintf('Thanks for playering.\\n');\n",
    "\t   return\n",
    "    elseif B == 0\n",
    "       fprintf('Thanks for playering.\\n');\n",
    "\t   return\n",
    "    end\n",
    "    \n",
    "    a = [(A-10) : 2 : (A+10)];\n",
    "    b = [(B-10) : 2 : (B+10)];\n",
    "    \n",
    "    for aa = a\n",
    "       for bb = b\n",
    "            y = aa .* sin(x) + bb .* tan(x ./ 10);\n",
    "            plot(x, y);\n",
    "            hold on\n",
    "       end\n",
    "    end\n",
    "end"
   ]
  },
  {
   "cell_type": "markdown",
   "metadata": {},
   "source": [
    "## Problem 2\n",
    "\n",
    "Write a problem to ask for inputs. Then it plots a function y = f(x). \n",
    "The function y = tanh(ax) e^-cos(x). The process is stated as follows.\n",
    "\n",
    "1. Clear the screen. Show your student ID and name.\n",
    "2. Ask to input the range of a, [aMin, aMax]. Here, assume aMin < aMax.\n",
    "3. Ask to input the step size, da, of a. da must be a non-negative number.\n",
    "4. If da is zero, show a message “Thanks for playing” and then quit the program. Otherwise go to step 5.\n",
    "5. Clear all curves in the current figure.\n",
    "6. Plot all the curves of y with different a such that a is inside [aMin:da:aMax]. x is inside [-10, 10]. The step size of x is 0.05. The line width of the curve is set to 2. Call “hold on” so that more functions can be plotted in the same figure.\n",
    "7. Go to step 2.\n"
   ]
  },
  {
   "cell_type": "code",
   "execution_count": null,
   "metadata": {
    "vscode": {
     "languageId": "plaintext"
    }
   },
   "outputs": [],
   "source": [
    "%%%%%%%%%%%%%%%%%%%%%%%%%%%\n",
    "% Assignment Number: 2\n",
    "% Problem number: 2\n",
    "% Student Name:  劉子齊 Jonathan\n",
    "% Student ID: 0716304\n",
    "% Email address: jonathan.tzuchi.liu@gmail.com\n",
    "% Department: Computer Science, NYCU\n",
    "% Date: 2021/03/15\n",
    "%%%%%%%%%%%%%%%%%%%%%%%%%%%%\n",
    "\n",
    "clf; clear; clc;\t\t% clear the current figure\n",
    "                        % clear variables, and clear screen\n",
    "\n",
    "fprintf('Student ID:0716304 Name:劉子齊 Jonathan\\n'); % show student id and name\n",
    "                        \n",
    "disp('Problem 2.2') \t% show Problem 2.2\n",
    "\n",
    "x = [-10:0.05:10];\n",
    "\n",
    "while 1\n",
    "    keyin = input('Please input the range of \"a\" [aMin, bMin]:');\n",
    "    aMin = keyin(1);\n",
    "    aMax = keyin(2);\n",
    "    \n",
    "    keyin2 = input('Please input the step size of \"a\" (da):');\n",
    "    da = keyin2(1);\n",
    "    \n",
    "    if da == 0\n",
    "       fprintf('Thanks for playering.\\n');\n",
    "\t   return\n",
    "    end\n",
    "    \n",
    "    clf; % Clear all curves in the current figure.\n",
    "\n",
    "    a = [aMin : da : aMax];\n",
    "    \n",
    "    for aa = a\n",
    "        y = tanh(aa .* x) .* exp(-cos(x));\n",
    "        plot(x, y, 'linewidth', 2);\n",
    "        hold on\n",
    "    end\n",
    "end\n"
   ]
  },
  {
   "cell_type": "markdown",
   "metadata": {},
   "source": [
    "## Problem 3\n",
    "\n",
    "Write a problem to ask for inputs. Then it plots  function y1 = f(x) and a family of function y2 = y2(x,n). \n",
    "\n",
    "y1 = sin(x)\n",
    "\n",
    "y2(x,n) = x – x^3/3! + x^5/5! +… + ((-1)^n/(2n+1)!) * x^(2n+1)\n",
    "\n",
    "1. Clear the screen. Show your student ID and name.\n",
    "2. Ask to input m. m  is an integer inside [-1, 10]. MUST check if the input is valid.\n",
    "3. If m is -1, show a message “Thanks for playing” and then quit the program. Otherwise go to step 4.\n",
    "4. Clear all curves in the current figure. Use ylim([-1.5, 1.5]).\n",
    "5. In the same figure, plot y1’s curve, and y2’s curves for all 0 <=n <= m. \n",
    "6. x is inside [-5, 5]. The step size of x is 0.01. \n",
    "7. The line width is set to 4 for y1’s curve. \n",
    "8. The line width is set to 1 for y2’s curves. Put ylim([-1.5, 1.5]) after all curves are plotted.\n",
    "9. Go to step 2.\n",
    "\n",
    "Hint: use factorial\n"
   ]
  },
  {
   "cell_type": "code",
   "execution_count": null,
   "metadata": {
    "vscode": {
     "languageId": "plaintext"
    }
   },
   "outputs": [],
   "source": [
    "%%%%%%%%%%%%%%%%%%%%%%%%%%%\n",
    "% Assignment Number: 2\n",
    "% Problem number: 3\n",
    "% Student Name:  劉子齊 Jonathan\n",
    "% Student ID: 0716304\n",
    "% Email address: jonathan.tzuchi.liu@gmail.com\n",
    "% Department: Computer Science, NYCU\n",
    "% Date: 2021/03/15\n",
    "%%%%%%%%%%%%%%%%%%%%%%%%%%%%\n",
    "\n",
    "clf; clear; clc;\t\t% clear the current figure\n",
    "                        % clear variables, and clear screen\n",
    "\n",
    "fprintf('Student ID:0716304 Name:劉子齊 Jonathan\\n'); % show student id and name                       \n",
    "                        \n",
    "disp('Problem 2.3') \t% show Problem 2.3\n",
    "\n",
    "x = [-5: 0.01: 5];\n",
    "\n",
    "while 1\n",
    "   keyin = input('Please input the value of \"m\" insode [-1, 10]:');\n",
    "   m = keyin(1);\n",
    "   \n",
    "   if m <= -1\n",
    "       fprintf('Thanks for playering.\\n');\n",
    "\t   return\n",
    "   elseif m >= 10\n",
    "       fprintf('Thanks for playering.\\n');\n",
    "\t   return\n",
    "   end\n",
    "   \n",
    "   clf; % Clear all curves in the current figure.\n",
    "   ylim([-1.5, 1.5]);\n",
    "   \n",
    "   y1 = sin(x);\n",
    "   plot(x, y1, 'linewidth', 4);\n",
    "   hold on\n",
    "   y2 = 0;\n",
    "     \n",
    "   for n = 0:m\n",
    "       y2 = y2 + ((-1) ^ n / factorial(2 * n + 1)) .* x .^ (2 * n + 1);\n",
    "       plot(x, y2, 'linewidth', 1);\n",
    "       hold on\n",
    "   end\n",
    "   ylim([-1.5, 1.5]);\n",
    "end"
   ]
  },
  {
   "cell_type": "markdown",
   "metadata": {},
   "source": [
    "## Problem 4\n",
    "\n",
    "Plot y = (5x^2+2x+7)/(x^2-5x-14)\n",
    "\n",
    "Plot the upper part of the curve as red color, i.e., y >= 0.\n",
    "\n",
    "Plot the bottom part of the curve as blue color, i.e., y < 0.\n",
    "\n",
    "\n",
    "The step size of x is 0.005.\n",
    "\n",
    "Show something that is similar to the right figure.\n",
    "\n",
    "The range of x is [-5, 10]. The line width is 2.\n",
    "\n",
    "Hint: Create a row vector for y, with x changed in the interval. Then split the row vector based on y’s value into parts. Or you can find out the split points for x and then create the proper vectors."
   ]
  },
  {
   "cell_type": "code",
   "execution_count": null,
   "metadata": {
    "vscode": {
     "languageId": "plaintext"
    }
   },
   "outputs": [],
   "source": [
    "%%%%%%%%%%%%%%%%%%%%%%%%%%%\n",
    "% Assignment Number: 2\n",
    "% Problem number: 4\n",
    "% Student Name:  劉子齊 Jonathan\n",
    "% Student ID: 0716304\n",
    "% Email address: jonathan.tzuchi.liu@gmail.com\n",
    "% Department: Computer Science, NYCU\n",
    "% Date: 2021/03/15\n",
    "%%%%%%%%%%%%%%%%%%%%%%%%%%%%\n",
    "\n",
    "clf; clear; clc;\t\t% clear the current figure\n",
    "                        % clear variables, and clear screen\n",
    "\n",
    "fprintf('Student ID:0716304 Name:劉子齊 Jonathan\\n'); % show student id and name                        \n",
    "                        \n",
    "disp('Problem 2.4') \t% show Problem 2.4\n",
    "\n",
    "x = [-5: 0.005: 10];\n",
    "\n",
    "y = (5 .* x .^ 2 + 2 .* x + 7) ./ (x .^ 2 - 5 .* x - 14);\n",
    "\n",
    "index_y1 = find(y >= 0);\n",
    "index_y2 = find(y < 0);\n",
    "\n",
    "big_x = x(index_y1);\n",
    "big_y = y(index_y1);\n",
    "\n",
    "sml_x = x(index_y2);\n",
    "sml_y = y(index_y2);\n",
    "\n",
    "plot(big_x, big_y, 'r', 'linewidth', 2);\n",
    "hold on\n",
    "plot(sml_x, sml_y, 'b', 'linewidth', 2);"
   ]
  },
  {
   "cell_type": "markdown",
   "metadata": {},
   "source": [
    "## HINT: Implementation of a dynamic system\n",
    "\n",
    "A dynamic system is updated by two rules as follows:\n",
    "\n",
    "R1) p <- p + k v Dt \n",
    "\n",
    "R2) t <- t + Dt\n",
    "\n",
    "The process is that we perform R1 and R2. After that repeat the process until the termination condition is satisfied.\n",
    "\n",
    "The initial condition is as follows: p = 15, v = -1.0, t = 0, and Dt = 0.001.\n",
    "\n",
    "Draw a curve of p versus t for each k inside [-1:0.1:1]. t is inside [0,20]. \n",
    "\n",
    "Plot all the curves on the same figure.\n"
   ]
  },
  {
   "cell_type": "code",
   "execution_count": null,
   "metadata": {
    "vscode": {
     "languageId": "plaintext"
    }
   },
   "outputs": [],
   "source": [
    "clear; clc; clf;\n",
    "dt = 1;\n",
    "p0 = 15; v0 = -1; t0 = 0;  \n",
    "tmax = 20;\n",
    "figure\n",
    "hold on\n",
    "for k = [-1:1]\n",
    "    p = p0; v = v0; t = t0; M = [p]; T = [t];\n",
    "    while t < tmax\n",
    "        p = p + k*v*dt;\n",
    "        t = t + dt;\n",
    "        T = [T,t]; % expand T when necessary. This is slow.\n",
    "        M = [M,p]; % expand M when necessary. This is slow.\n",
    "    end\n",
    "    plot(T, M, T, M, 'o');\n",
    "end"
   ]
  },
  {
   "cell_type": "markdown",
   "metadata": {},
   "source": [
    "## Problem 5\n",
    "\n",
    "A dynamic system is updated by four rules as follows.\n",
    "\n",
    "R1) v <- v + g Dt\n",
    "\n",
    "R2) p <- p + k v Dt \n",
    "\n",
    "R3) t <- t + Dt\n",
    "\n",
    "R4) If p < 0, set p = 0 and update v <- -0.9v, i.e., negating v and reducing its magnitude.\n",
    "\n",
    "\n",
    "The process is terminated when t > 10.\n",
    "Initial condition: t = 0, v = 0, k = 0.5, g = -9.81, and p = 10. p is a function of time. Dt = 1/30.\n",
    "\n",
    "Main output: Draw two figures. \n",
    "\n",
    "Figure 1: Draw a curve p versus t, t’s interval is based on the simulation.\n",
    "\n",
    "Figure 2: Draw a curve v versus t. t’s interval is based on the simulation.\n"
   ]
  },
  {
   "cell_type": "code",
   "execution_count": null,
   "metadata": {
    "vscode": {
     "languageId": "plaintext"
    }
   },
   "outputs": [],
   "source": [
    "%%%%%%%%%%%%%%%%%%%%%%%%%%%\n",
    "% Assignment Number: 2\n",
    "% Problem number: 5\n",
    "% Student Name:  劉子齊 Jonathan\n",
    "% Student ID: 0716304\n",
    "% Email address: jonathan.tzuchi.liu@gmail.com\n",
    "% Department: Computer Science, NYCU\n",
    "% Date: 2021/03/15\n",
    "%%%%%%%%%%%%%%%%%%%%%%%%%%%%\n",
    "\n",
    "clf; clear; clc;\t\t% clear the current figure\n",
    "                        % clear variables, and clear screen\n",
    "\n",
    "fprintf('Student ID:0716304 Name:劉子齊 Jonathan\\n'); % show student id and name                        \n",
    "                        \n",
    "disp('Problem 2.5') \t% show Problem 2.5\n",
    "\n",
    "t0 = 0; v0 = 0; k = 0.5; g = -9.81; p0 = 10;\n",
    "dt = 1/30;\n",
    "\n",
    "hold on\n",
    "\n",
    "p = p0; v = v0; t = t0;\n",
    "T = []; P = []; V = [];\n",
    "\n",
    "while t <= 10\n",
    "    v = v + g * dt;\n",
    "    p = p + k * v * dt;\n",
    "    \n",
    "    if p < 0\n",
    "        p = 0;\n",
    "        v = -0.9 * v;\n",
    "    end\n",
    "    \n",
    "    T = [T, t];\n",
    "    P = [P, p];\n",
    "    V = [V, v];\n",
    "    \n",
    "    t = t + dt\n",
    "end\n",
    "\n",
    "figure(1), plot(T, V), xlim([0 12]);\n",
    "figure(2), plot(T, P), xlim([0 12]);"
   ]
  },
  {
   "cell_type": "markdown",
   "metadata": {},
   "source": [
    "## Notes\n",
    "\n",
    "#### str2num(): converts character array or string to numeric array\n",
    "\n",
    "#### fprintf():　fprintf( formatSpec,A1,...,An ) \n",
    "- %d: integer notation\n",
    "- %f: fixed point (decimal) notation\n",
    "- %e: exponential notation\n",
    "- %g: whichever is shorter, %f or %e\n",
    "- %7.2f 7位整數 小數點後2位\n",
    "\n",
    "#### file functions\n",
    "- fopen('filename', 'w'): open file to write \n",
    "- fclose('filename'): close file\n",
    "\n",
    "#### \"type filename\"\n",
    "- can output the text in the file\n",
    "\n",
    "#### disp(t' x'): 對齊的印出t&x兩個矩陣的值\n",
    "\n",
    "#### 如果今天是大於，可以加或減一個 \"eps\" 來避免等於的情況發生 \n",
    "\n",
    "#### find()\n",
    "- index_x = find((-5 <=x) & (x <= 5))\n",
    "- index_x = find(((-10<=x)&(x<=-6))|((-3<=x)&(x<=0))|((2<=x)&(x<=5))|((7<=x)&(x<=10)));\n",
    "\n"
   ]
  },
  {
   "cell_type": "markdown",
   "metadata": {},
   "source": []
  }
 ],
 "metadata": {
  "language_info": {
   "name": "python"
  },
  "orig_nbformat": 4
 },
 "nbformat": 4,
 "nbformat_minor": 2
}
